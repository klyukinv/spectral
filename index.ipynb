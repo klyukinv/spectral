{
 "cells": [
  {
   "cell_type": "markdown",
   "metadata": {
    "slideshow": {
     "slide_type": "slide"
    }
   },
   "source": [
    "# Spectral Clustering\n",
    "## Applied Methods of Linear Algebra\n",
    "---\n",
    "## Higher School of Economics\n",
    "## Klyukin Valeriy\n",
    "### BSE173"
   ]
  },
  {
   "cell_type": "markdown",
   "metadata": {
    "slideshow": {
     "slide_type": "slide"
    }
   },
   "source": [
    "# Clustering\n",
    "---\n",
    "## Problem:\n",
    "**Task of grouping a set of objects in such a way that objects in the same group (called a cluster) are more similar (in some sense) to each other than to those in other groups**\n",
    "\n",
    "<center><img src=\"clusters_intro.png\" width=\"300\" align=\"center\"/><center/>"
   ]
  },
  {
   "cell_type": "markdown",
   "metadata": {
    "slideshow": {
     "slide_type": "slide"
    }
   },
   "source": [
    "# How to solve?\n",
    "---\n",
    "There are several approaches to solving this problem:\n",
    "* Connectivity models (*Single Linkage*)\n",
    "* Centroid models (*K-Means*)\n",
    "* Density models (*DBSCAN*)  \n",
    "...  \n",
    "* Graph-based models (*Spectral Clustering*)  \n",
    "..."
   ]
  },
  {
   "cell_type": "markdown",
   "metadata": {
    "slideshow": {
     "slide_type": "subslide"
    }
   },
   "source": [
    "# Spectral Clustering Advantages\n",
    "---\n",
    "Results obtained by spectral clustering often outperform the traditional approaches, spectral clustering is very\n",
    "simple to implement and can be solved efficiently by standard linear algebra methods.\n",
    "<center>\n",
    "<img src=\"clusters_comparison.png\" width=\"300\" align=\"center\"/>\n",
    "</center>"
   ]
  },
  {
   "cell_type": "markdown",
   "metadata": {
    "slideshow": {
     "slide_type": "slide"
    }
   },
   "source": [
    "# Similarity Graph\n",
    "---\n",
    "* Given a set of data points $x_1, x_2, ..., x_n$ and some notion of similarity $s_{ij} \\ge 0$ between all pairs of data points.\n",
    "* A nice way of representing the data is in form of the *similarity graph* $G = \\left( V, E \\right)$.  Each vertex $v_i$ in this graph represents a data point $x_i$.  \n",
    "$$\\exists e_{ij} \\in E \\iff s_{ij} > threshold$$"
   ]
  },
  {
   "cell_type": "markdown",
   "metadata": {
    "slideshow": {
     "slide_type": "subslide"
    }
   },
   "source": [
    "## Reformulate problem\n",
    "---\n",
    "**We want to find a partition of the graph such that the edges between different groups have very low weights and the edges within a group have high weights.**"
   ]
  },
  {
   "cell_type": "markdown",
   "metadata": {
    "slideshow": {
     "slide_type": "slide"
    }
   },
   "source": [
    "# Graph Notion\n",
    "---\n",
    "1. Assume that $G$ is undirected weighted graph and $w_{ji} = w_{ij} \\ge 0$. If $w_{ij} = 0$ then there is no edge between $v_i$ and $v_j$.\n",
    "2. $W$ is a weight matrix. $(W)_{ij} = w_{ij}$\n",
    "3. The degree of a vertex $v_i \\in V$ is defined as $$d_i = \\sum \\limits_{j = 1}^{n} w_{ij}$$\n",
    "4. *Degree matrix* $D$ is defined as the diagonal matrix with the degrees $d_1, \\dots,d_n$ on the diagonal.\n",
    "5. For two not necessarily disjoint sets $A, B \\subset V$ we define $$W(A, B) := \\sum \\limits_{i \\in A, j \\in B} w_{ij}$$"
   ]
  },
  {
   "cell_type": "markdown",
   "metadata": {
    "slideshow": {
     "slide_type": "slide"
    }
   },
   "source": [
    "# How to construct a graph from the data?\n",
    "---\n",
    "**Goal**: to model the local neighborhood relationships between the data points.  \n",
    "1. The $\\varepsilon$-neighborhood graph\n",
    "2. $K$-nearest neighbor graph\n",
    "3. The fully connected graph"
   ]
  },
  {
   "cell_type": "markdown",
   "metadata": {
    "slideshow": {
     "slide_type": "subslide"
    }
   },
   "source": [
    "## The $\\varepsilon$-neighborhood graph\n",
    "---\n",
    "$$\\forall i, j \\in \\overline{1, n} \\space s_{ij} < \\varepsilon \\iff \\exists e_{ij} \\in E$$\n",
    "<p></p>\n",
    "<center>\n",
    "<img src=\"epsilon.png\" width=\"300\" align=\"center\"/>\n",
    "</center>"
   ]
  },
  {
   "cell_type": "markdown",
   "metadata": {
    "slideshow": {
     "slide_type": "subslide"
    }
   },
   "source": [
    "## $K$-nearest neighbor graph\n",
    "--- \n",
    "$$\\forall i, j \\in \\overline{1, n} \\space v_i \\in KNN_{v_j} \\implies \\exists e_{ij} \\in E$$\n",
    "  \n",
    "<p></p>\n",
    "<center>\n",
    "<img src=\"knn.jpeg\" width=\"300\" align=\"center\"/>\n",
    "</center>"
   ]
  },
  {
   "cell_type": "markdown",
   "metadata": {
    "slideshow": {
     "slide_type": "subslide"
    }
   },
   "source": [
    "## The fully connected graph\n",
    "---\n",
    "$$w_{ij} = s_{ij}$$\n",
    "*Note*: this construction is only useful if the similarity function itself models local neighborhoods.  \n",
    "For instance: $$s(x_i, x_j) = exp\\left(- \\frac{|| x_i - x_j ||^2}{2\\sigma^2}\\right),$$\n",
    "<center>$\\sigma$ controls the width of the neighborhoods.</center>"
   ]
  },
  {
   "cell_type": "markdown",
   "metadata": {
    "slideshow": {
     "slide_type": "slide"
    }
   },
   "source": [
    "# Graph Laplacians\n",
    "---\n",
    "* **Graph Laplacian matrices** are the main tools for spectral clustering.\n",
    "* There is no unique convention which matrix exactly is called “graph Laplacian”.\n",
    "* By “the first $k$ eigenvectors” we refer to the eigenvectors corresponding to the $k$ smallest eigenvalues."
   ]
  },
  {
   "cell_type": "markdown",
   "metadata": {
    "slideshow": {
     "slide_type": "subslide"
    }
   },
   "source": [
    "## The unnormalized graph Laplacian\n",
    "### B. Mohar \"The Laplacian spectrum of graphs\"\n",
    "---\n",
    "$$L = D - W$$\n",
    "**Example:**\n",
    "$$W = \\begin{pmatrix}\n",
    "0 & 1 & 1\\\\\n",
    "1 & 0 & 0\\\\\n",
    "1 & 0 & 0\n",
    "\\end{pmatrix}\\space{}\n",
    "D = \\begin{pmatrix}\n",
    "2 & 0 & 0\\\\\n",
    "0 & 1 & 0\\\\\n",
    "0 & 0 & 1\n",
    "\\end{pmatrix}\n",
    "$$\n",
    "  \n",
    "$$\n",
    "L = \\begin{pmatrix}\n",
    "2 & -1 & -1\\\\\n",
    "-1 & 1 & 0\\\\\n",
    "-1 & 0 & 1\n",
    "\\end{pmatrix}\n",
    "$$"
   ]
  },
  {
   "cell_type": "markdown",
   "metadata": {
    "slideshow": {
     "slide_type": "subslide"
    }
   },
   "source": [
    "## Properties\n",
    "---\n",
    "1. $L$ is symmetric and positive semi-definite\n",
    "2. The smallest eigenvalue of $L$ is $0$, the corresponding eigenvector is the constant one vector.\n",
    "3. $L$ has $n$ non-negative, real-valued eigenvalues $0 = \\lambda_1 \\le \\lambda_2 \\le \\dots \\le \\lambda_n$\n",
    "4. The number of $0$ eigenvalues corresponds to the number of connected components in the graph.\n",
    "![Gif laplacian eigenvalues](laplacian_eigenvalues.gif \"laplacian eigenvalues\")"
   ]
  },
  {
   "cell_type": "markdown",
   "metadata": {
    "slideshow": {
     "slide_type": "subslide"
    }
   },
   "source": [
    "## Look closely...\n",
    "---\n",
    "**Theorem**: Let $G$ be an undirected graph with non-negative weights. Then the multiplicity $k$ of the eigenvalue $0$ of $L$ equals the number of connected components $A_1, \\dots, A_k$ in the graph. The eigenspace of eigenvalue $0$ is spanned by the indicator vectors $1_{A_1} , \\dots, 1_{A_k}$ of those components.\n",
    "![Connected graph laplacian](connected_laplacian.png \"connected graph laplacian\")\n",
    "**Property**: The second smallest eigenvalue approximates the density of the graph."
   ]
  },
  {
   "cell_type": "markdown",
   "metadata": {
    "slideshow": {
     "slide_type": "subslide"
    }
   },
   "source": [
    "## The normalized graph Laplacians\n",
    "### F. Chung \"Spectral graph theory\"\n",
    "---\n",
    "There are two matrices which are called normalized graph Laplacians in the literature.\n",
    "$$L_{sym} := D^{-\\frac{1}{2}} L D^{-\\frac{1}{2}} = I - D^{-\\frac{1}{2}} W D^{-\\frac{1}{2}}$$\n",
    "$$L_{rw} := D^{-1}L = I - D^{-1}W$$\n",
    "* $L_{sym}$ is symmetric\n",
    "* $L_{rw}$ is closely related to a random walk"
   ]
  },
  {
   "cell_type": "markdown",
   "metadata": {
    "slideshow": {
     "slide_type": "slide"
    }
   },
   "source": [
    "# Spectral Clustering Algorithms\n",
    "---\n",
    "**Unnormalized spectral clustering**  \n",
    "  \n",
    "*Input*: `Similarity matrix `$S \\in R^{n\\times n}$, `number`$k$` of clusters to construct.`  \n",
    "\n",
    "* `Construct a similarity graph by one of the ways described in Section 2. Let `$W$ `be its weighted adjacency matrix.`  \n",
    "\n",
    "* `Compute the unnormalized Laplacian` $L$.  \n",
    "\n",
    "* `Compute the first` $k$ `eigenvectors` $u_1, \\dots, u_k$ `of` $L$.  \n",
    "* `Let` $U \\in R^{n\\times k}$ `be the matrix containing the vectors` $u_1,\\dots,u_k$ `as columns`.  \n",
    "* `For i = 1,...,n, let `$y_i \\in R^k$ `be the vector corresponding to the i-th row of` $U$.  \n",
    "* `Cluster the points` $(y_i)_{i=1,\\dots,n}$ `in` $R^k$ `with the k-means algorithm into clusters` $C_1, \\dots,C_k.$  \n",
    "\n",
    "*Output*: `Clusters` $A_1, \\dots,A_k$ `with` $A_i = \\{j| y_j \\in C_i\\}$."
   ]
  },
  {
   "cell_type": "markdown",
   "metadata": {
    "slideshow": {
     "slide_type": "subslide"
    }
   },
   "source": [
    "## Normalized spectral clustering\n",
    "---\n",
    "**Normalized spectral clustering algorithms look rather similar, apart from the fact that they use normalized graph Laplacians.** "
   ]
  },
  {
   "cell_type": "markdown",
   "metadata": {
    "slideshow": {
     "slide_type": "slide"
    }
   },
   "source": [
    "# Main Trick\n",
    "---\n",
    "* In all algorithms, the main trick is to change the representation of the abstract data points $x_i$ to points $y_i \\in R^k$. \n",
    "* This change of representation enhances the cluster-properties in the data, so that clusters can be trivially detected in the new representation.\n",
    "<center>\n",
    "<img src=\"distribution.png\" width=\"200\" align=\"center\"/>\n",
    "</center>\n",
    "<center>\n",
    "<img src=\"unnorm_knn.png\" width=\"700\" align=\"center\"/>\n",
    "</center>"
   ]
  },
  {
   "cell_type": "markdown",
   "metadata": {
    "slideshow": {
     "slide_type": "slide"
    }
   },
   "source": [
    "# Solving Problem as a Graph Cut\n",
    "---\n",
    "New formulation: For a given number k of subsets, the mincut approach simply consists in choosing a partition $A_1,\\dots,A_k$ which minimizes\n",
    "$$cut(A_1,\\dots,A_k) = \\frac{1}{2}\\sum \\limits_{i = 1}^{k}W\\left(A_i, \\overline{A_i}\\right)$$\n",
    "Where $A_i$ is complement to $A$ and $W\\left(A_i, \\overline{A_i}\\right) = \\sum \\limits_{i \\in A, j \\in B} w_{ij}$.  "
   ]
  },
  {
   "cell_type": "markdown",
   "metadata": {
    "slideshow": {
     "slide_type": "fragment"
    }
   },
   "source": [
    "The problem is that in many cases, the solution of mincut simply separates one individual vertex from the rest of the graph.\n",
    "$$RatioCut(A_1,\\dots,A_k) = \\frac{1}{2}\\sum \\limits_{i = 1}^{k}\\frac{W\\left(A_i, \\overline{A_i}\\right)}{|A_i|} = \\sum \\limits_{i = 1}^{k}\\frac{cut\\left(A_i, \\overline{A_i}\\right)}{|A_i|}$$\n",
    "$$NCut(A_1,\\dots,A_k) = \\frac{1}{2}\\sum \\limits_{i = 1}^{k}\\frac{W\\left(A_i, \\overline{A_i}\\right)}{vol(A_i)} = \\sum \\limits_{i = 1}^{k}\\frac{cut\\left(A_i, \\overline{A_i}\\right)}{vol(A_i)}$$\n",
    "$$vol(A) := \\sum \\limits_{i \\in A} d_i$$"
   ]
  },
  {
   "cell_type": "markdown",
   "metadata": {
    "slideshow": {
     "slide_type": "subslide"
    }
   },
   "source": [
    "Unfortunately, introducing balancing conditions makes the previously simple to solve mincut problem become **NP** hard.  \n",
    "**Spectral clustering is a way to solve relaxed versions of those problems.**  \n",
    "\n",
    "*Embedding relaxation in the RadioCut method leads us to the problem of unnormalized spectral clustering; in the NCut - to the problem of normalized spectral clustering* (read more in \"A tutorial on spectral clustering\" by C. Ding)"
   ]
  },
  {
   "cell_type": "markdown",
   "metadata": {
    "slideshow": {
     "slide_type": "slide"
    }
   },
   "source": [
    "# Random walks\n",
    "---\n",
    "* A random walk on a graph is a stochastic process which randomly jumps from vertex to vertex.\n",
    "* Spectral clustering can be interpreted as trying to find a partition of the graph such that the random walk stays long within the same cluster and seldom jumps between clusters.\n",
    "<center>\n",
    "<img src=\"rw_cluster.png\" width=\"200\" align=\"center\"/>\n",
    "</center>\n",
    "<p>\n",
    "* The transition probability of jumping in one step from vertex $v_i$ to vertex $v_j$ is proportional to the edge weight $w_{ij}$ and is given by $$p_{ij} := \\frac{w_{ij}}{d_i}$$"
   ]
  },
  {
   "cell_type": "markdown",
   "metadata": {
    "slideshow": {
     "slide_type": "subslide"
    }
   },
   "source": [
    "* The transition matrix $P = (p_{ij})_{i,j=1,\\dots,n}$ of the random walk is thus defined by $$P = D^{-1}W$$.\n",
    "* If the graph is connected and non-bipartite, then the random walk always possesses a unique stationary distribution $\\pi = (\\pi_1,\\dots, \\pi_n)^\\top$, where $\\pi_i = \\frac{d_i}{vol(V)}$."
   ]
  },
  {
   "cell_type": "markdown",
   "metadata": {
    "slideshow": {
     "slide_type": "fragment"
    }
   },
   "source": [
    "* Obviously there is a tight relationship between $L_{rw}$ and $P$, as $L_{rw} = I − P$.\n",
    "* As a consequence, $\\lambda$ is an eigenvalue of $L_{rw}$ with eigenvector $u$ if and only if $1 − \\lambda$ is an eigenvalue of $P$ with eigenvector $u$."
   ]
  },
  {
   "cell_type": "markdown",
   "metadata": {
    "slideshow": {
     "slide_type": "fragment"
    }
   },
   "source": [
    "\n",
    "* Random walks and $NCut$ are formally equivalent:\n",
    "<center>\n",
    "Let $G$ be connected and non bi-partite. Assume that we run the random walk $(X)_{t, t\\in N}$ starting with $X_0$ in the stationary distribution $\\pi$. For disjoint subsets $A, B \\subset V$, denote by $P(B | A) := P(X_1 \\in B | X_0 \\in A)$. Then:</center> $$NCut\\left(A, \\overline{A}\\right) = P\\left(\\overline{A} | A\\right) + P\\left(A| \\overline{A}\\right)$$\n",
    "* When minimizing Ncut, we actually look for a cut through the graph such that a random walk seldom transitions from $A$ to $\\overline{A}$ and vice versa."
   ]
  },
  {
   "cell_type": "markdown",
   "metadata": {
    "slideshow": {
     "slide_type": "slide"
    }
   },
   "source": [
    "# Perturbation theory point of view\n",
    "---\n",
    "**Question:**  how eigenvalues and eigenvectors of a matrix $L$ change if we add a small perturbation $H$, that is we consider the perturbed matrix $\\tilde{L} := L + H$?"
   ]
  },
  {
   "cell_type": "markdown",
   "metadata": {
    "slideshow": {
     "slide_type": "fragment"
    }
   },
   "source": [
    "*  Most perturbation theorems state that a certain distance between eigenvalues or eigenvectors of $L$ and $\\tilde{L}$ is bounded by a constant times a norm of $H$.\n",
    "* With respect to spectral clustering: $L$ is corresponding to the *\"ideal case\"* where the between-cluster similarity is exactly $0$.  In a *“nearly ideal case”* where we still have distinct clusters, but the between-cluster similarity is not exactly $0$, we consider the Laplacian matrices to be perturbed versions of the ones of the ideal case.\n",
    "*  Perturbation theory then tells us that the eigenvectors will be very close to the ideal indicator vectors. So vectors $\\tilde{y}_i$ of affiliation to the cluster in a *“nearly ideal case”* would be close to original too."
   ]
  },
  {
   "cell_type": "markdown",
   "metadata": {
    "slideshow": {
     "slide_type": "subslide"
    }
   },
   "source": [
    "## Theorem (Davis-Kahan)\n",
    "---\n",
    "Let $A, H \\in n\\times n$ be symmetric matrices, and let $|| \\cdot ||$ be the Frobenius\n",
    "norm or the two-norm for matrices, respectively.  \n",
    "Consider $\\tilde{A} := A + H$ as a perturbed version of $A$.  \n",
    "Let $S_1 \\subset R$ be an interval. Denote by $\\sigma_{S_1}(A)$ the set of eigenvalues of $A$ which are contained in $S_1$, and by $V_1$ the eigenspace corresponding to all those eigenvalues.  \n",
    "Denote by $\\sigma_{S_1}(\\tilde{A})$ and $\\tilde{V}_1$ the analogous quantities for $\\tilde{A}$.\n",
    "Define the distance between $S_1$ and the spectrum of $A$ outside of $S_1$ as\n",
    "$$\\delta = min\\{|\\lambda − s|; \\lambda \\space is\\space eigenvalue\\space of\\space A, \\lambda \\notin S_1, s \\in S_1\\}.$$\n",
    "<p>\n",
    "Then the distance $d(V_1, \\tilde{V}_1) := ||sin \\Theta\\left(V_1, \\tilde{V}_1\\right)||$ between the two subspaces $V_1$ and $\\tilde{V}_1$ is bounded by\n",
    "    $$d(V_1, \\tilde{V}_1) \\le \\frac{||H||}{\\delta}$$"
   ]
  },
  {
   "cell_type": "markdown",
   "metadata": {
    "slideshow": {
     "slide_type": "subslide"
    }
   },
   "source": [
    "## What does it mean?\n",
    "---\n",
    "* For spectral clustering we need to consider the first $k$ eigenvalues and eigenvectors of $\\tilde{L}$.  Denote the eigenvalues of $L$ by $\\lambda_{1},\\dots, \\lambda_{n}$ and the ones of the perturbed Laplacian $\\tilde{L}$ by $\\tilde{\\lambda}_{1},\\dots, \\tilde{\\lambda}_{n}$\n",
    "* Choosing the interval $S_1$ is now the crucial point. We want to choose it such that both the first $k$ eigenvalues of $\\tilde{L}$ and the first $k$ eigenvalues of $L$ are contained in $S_1$. This is easier the smaller the perturbation $H = L − \\tilde{L}$ and the larger the eigengap $|\\lambda_{k} − \\lambda_{k+1}|$ is\n",
    "* The Davis-Kahan theorem tells us that the eigenspaces corresponding to the first $k$ eigenvalues of the ideal matrix $L$ and the first $k$ eigenvalues of the perturbed matrix $\\tilde{L}$ are very close to each other, that is their distance is bounded by $\\frac{||H||}{\\delta}$."
   ]
  },
  {
   "cell_type": "markdown",
   "metadata": {
    "slideshow": {
     "slide_type": "slide"
    }
   },
   "source": [
    "# Practice"
   ]
  },
  {
   "cell_type": "code",
   "execution_count": 50,
   "metadata": {
    "slideshow": {
     "slide_type": "skip"
    }
   },
   "outputs": [],
   "source": [
    "l = 100\n",
    "x, y = np.indices((l, l))\n",
    "\n",
    "center1 = (28, 24)\n",
    "center2 = (40, 50)\n",
    "center3 = (67, 58)\n",
    "center4 = (24, 70)\n",
    "\n",
    "radius1, radius2, radius3, radius4 = 16, 14, 15, 14\n",
    "\n",
    "circle1 = (x - center1[0]) ** 2 + (y - center1[1]) ** 2 < radius1 ** 2\n",
    "circle2 = (x - center2[0]) ** 2 + (y - center2[1]) ** 2 < radius2 ** 2\n",
    "circle3 = (x - center3[0]) ** 2 + (y - center3[1]) ** 2 < radius3 ** 2\n",
    "circle4 = (x - center4[0]) ** 2 + (y - center4[1]) ** 2 < radius4 ** 2\n",
    "\n",
    "# #############################################################################\n",
    "# 4 circles\n",
    "img = circle1 + circle2 + circle3 + circle4\n",
    "\n",
    "# We use a mask that limits to the foreground: the problem that we are\n",
    "# interested in here is not separating the objects from the background,\n",
    "# but separating them one from the other.\n",
    "mask = img.astype(bool)\n",
    "\n",
    "img = img.astype(float)\n",
    "img += 1 + 0.2 * np.random.randn(*img.shape)"
   ]
  },
  {
   "cell_type": "code",
   "execution_count": 52,
   "metadata": {
    "slideshow": {
     "slide_type": "fragment"
    }
   },
   "outputs": [
    {
     "data": {
      "image/png": "[encoded data removed]",
      "text/plain": [
       "<matplotlib.figure.Figure at 0x7f54b55a9908>"
      ]
     },
     "metadata": {
      "needs_background": "light"
     },
     "output_type": "display_data"
    }
   ],
   "source": [
    "plt.matshow(img)\n",
    "plt.show()"
   ]
  },
  {
   "cell_type": "code",
   "execution_count": 43,
   "metadata": {
    "slideshow": {
     "slide_type": "skip"
    }
   },
   "outputs": [],
   "source": [
    "import warnings\n",
    "from sklearn.cluster import spectral_clustering\n",
    "from sklearn.feature_extraction import image\n",
    "\n",
    "warnings.filterwarnings(\"ignore\")"
   ]
  },
  {
   "cell_type": "code",
   "execution_count": 53,
   "metadata": {
    "slideshow": {
     "slide_type": "subslide"
    }
   },
   "outputs": [
    {
     "data": {
      "image/png": "[encoded data removed]",
      "text/plain": [
       "<matplotlib.figure.Figure at 0x7f54b42f5128>"
      ]
     },
     "metadata": {
      "needs_background": "light"
     },
     "output_type": "display_data"
    }
   ],
   "source": [
    "graph = image.img_to_graph(img, mask=mask)\n",
    "graph.data = np.exp(-graph.data / graph.data.std())\n",
    "\n",
    "labels = spectral_clustering(graph, n_clusters=4)\n",
    "label_im = np.full(mask.shape, -1.)\n",
    "label_im[mask] = labels\n",
    "\n",
    "plt.matshow(label_im)\n",
    "\n",
    "plt.show()"
   ]
  },
  {
   "cell_type": "markdown",
   "metadata": {
    "slideshow": {
     "slide_type": "slide"
    }
   },
   "source": [
    "# Sources\n",
    "---\n",
    "1. Ulrike von Luxburg, \"A Tutorial on Spectral Clustering\"\n",
    "2. Chung, F., \"Spectral graph theory\"\n",
    "3. Ding, C., \"A tutorial on spectral clustering\"\n",
    "4. Mohar B., \"The Laplacian spectrum of graphs\""
   ]
  },
  {
   "cell_type": "markdown",
   "metadata": {
    "slideshow": {
     "slide_type": "slide"
    }
   },
   "source": [
    "# Thank you"
   ]
  }
 ],
 "metadata": {
  "celltoolbar": "Slideshow",
  "kernelspec": {
   "display_name": "Python 3",
   "language": "python",
   "name": "python3"
  },
  "language_info": {
   "codemirror_mode": {
    "name": "ipython",
    "version": 3
   },
   "file_extension": ".py",
   "mimetype": "text/x-python",
   "name": "python",
   "nbconvert_exporter": "python",
   "pygments_lexer": "ipython3",
   "version": "3.6.8"
  }
 },
 "nbformat": 4,
 "nbformat_minor": 2
}
